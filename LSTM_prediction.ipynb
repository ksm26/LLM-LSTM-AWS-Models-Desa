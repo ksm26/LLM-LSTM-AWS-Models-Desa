{
 "cells": [
  {
   "cell_type": "code",
   "execution_count": 1,
   "id": "cb0cef88-482d-417a-b39a-432e4fc4d0db",
   "metadata": {
    "tags": []
   },
   "outputs": [
    {
     "name": "stdout",
     "output_type": "stream",
     "text": [
      "Files removed: 41\n",
      "Filesystem      Size  Used Avail Use% Mounted on\n",
      "overlay          37G   24K   37G   1% /\n",
      "tmpfs            64M     0   64M   0% /dev\n",
      "tmpfs           7.8G     0  7.8G   0% /sys/fs/cgroup\n",
      "shm             4.0G     0  4.0G   0% /dev/shm\n",
      "/dev/nvme0n1p1   50G   17G   34G  33% /opt/.sagemakerinternal\n",
      "/dev/nvme1n1     25G   25G  623M  98% /home/studio-lab-user\n",
      "devtmpfs        7.8G     0  7.8G   0% /dev/tty\n",
      "tmpfs           7.8G     0  7.8G   0% /proc/acpi\n",
      "tmpfs           7.8G     0  7.8G   0% /sys/firmware\n"
     ]
    }
   ],
   "source": [
    "!pip cache purge\n",
    "!df -h"
   ]
  },
  {
   "cell_type": "code",
   "execution_count": 2,
   "id": "8ce4a223-1689-4041-812c-7d5ebe4c6c6a",
   "metadata": {
    "tags": []
   },
   "outputs": [],
   "source": [
    "!pip install matplotlib torch torchvision yfinance --quiet"
   ]
  },
  {
   "cell_type": "code",
   "execution_count": 2,
   "id": "d59c10f6-71cc-438d-9d4e-fb95cb2ea840",
   "metadata": {
    "tags": []
   },
   "outputs": [],
   "source": [
    "!pip install yfinance --quiet"
   ]
  },
  {
   "cell_type": "code",
   "execution_count": 87,
   "id": "aaf0e7fe-c1f3-4189-a709-015d65395294",
   "metadata": {},
   "outputs": [],
   "source": [
    "import os\n",
    "import numpy as np\n",
    "import pandas as pd\n",
    "import matplotlib.pyplot as plt\n",
    "import torch\n",
    "import torch.nn as nn\n",
    "from sklearn.preprocessing import MinMaxScaler\n",
    "from sklearn.metrics import mean_squared_error\n",
    "from torch.utils.data import DataLoader, TensorDataset\n",
    "import yfinance as yf"
   ]
  },
  {
   "cell_type": "code",
   "execution_count": 88,
   "id": "95df638c-35f9-4215-94a5-fcc5ed03d091",
   "metadata": {
    "tags": []
   },
   "outputs": [],
   "source": [
    "device = torch.device(\"cuda\" if torch.cuda.is_available() else \"cpu\")"
   ]
  },
  {
   "cell_type": "code",
   "execution_count": 5,
   "id": "d46bef64-9d9e-44fd-847c-d9077e5396a8",
   "metadata": {
    "tags": []
   },
   "outputs": [
    {
     "name": "stderr",
     "output_type": "stream",
     "text": [
      "[*********************100%***********************]  1 of 1 completed\n"
     ]
    },
    {
     "data": {
      "text/html": [
       "<div>\n",
       "<style scoped>\n",
       "    .dataframe tbody tr th:only-of-type {\n",
       "        vertical-align: middle;\n",
       "    }\n",
       "\n",
       "    .dataframe tbody tr th {\n",
       "        vertical-align: top;\n",
       "    }\n",
       "\n",
       "    .dataframe thead th {\n",
       "        text-align: right;\n",
       "    }\n",
       "</style>\n",
       "<table border=\"1\" class=\"dataframe\">\n",
       "  <thead>\n",
       "    <tr style=\"text-align: right;\">\n",
       "      <th></th>\n",
       "      <th>Open</th>\n",
       "      <th>High</th>\n",
       "      <th>Low</th>\n",
       "      <th>Close</th>\n",
       "      <th>Volume</th>\n",
       "    </tr>\n",
       "    <tr>\n",
       "      <th>Date</th>\n",
       "      <th></th>\n",
       "      <th></th>\n",
       "      <th></th>\n",
       "      <th></th>\n",
       "      <th></th>\n",
       "    </tr>\n",
       "  </thead>\n",
       "  <tbody>\n",
       "    <tr>\n",
       "      <th>2015-01-02</th>\n",
       "      <td>26.629999</td>\n",
       "      <td>26.790001</td>\n",
       "      <td>26.393999</td>\n",
       "      <td>26.477501</td>\n",
       "      <td>26480000</td>\n",
       "    </tr>\n",
       "    <tr>\n",
       "      <th>2015-01-05</th>\n",
       "      <td>26.357500</td>\n",
       "      <td>26.399500</td>\n",
       "      <td>25.887501</td>\n",
       "      <td>25.973000</td>\n",
       "      <td>41182000</td>\n",
       "    </tr>\n",
       "    <tr>\n",
       "      <th>2015-01-06</th>\n",
       "      <td>26.025000</td>\n",
       "      <td>26.060499</td>\n",
       "      <td>25.277500</td>\n",
       "      <td>25.332001</td>\n",
       "      <td>54456000</td>\n",
       "    </tr>\n",
       "    <tr>\n",
       "      <th>2015-01-07</th>\n",
       "      <td>25.547501</td>\n",
       "      <td>25.574499</td>\n",
       "      <td>25.182501</td>\n",
       "      <td>25.257500</td>\n",
       "      <td>46918000</td>\n",
       "    </tr>\n",
       "    <tr>\n",
       "      <th>2015-01-08</th>\n",
       "      <td>25.075500</td>\n",
       "      <td>25.375000</td>\n",
       "      <td>24.750999</td>\n",
       "      <td>25.345501</td>\n",
       "      <td>73054000</td>\n",
       "    </tr>\n",
       "    <tr>\n",
       "      <th>...</th>\n",
       "      <td>...</td>\n",
       "      <td>...</td>\n",
       "      <td>...</td>\n",
       "      <td>...</td>\n",
       "      <td>...</td>\n",
       "    </tr>\n",
       "    <tr>\n",
       "      <th>2022-12-23</th>\n",
       "      <td>87.110001</td>\n",
       "      <td>89.550003</td>\n",
       "      <td>87.070000</td>\n",
       "      <td>89.230003</td>\n",
       "      <td>23003000</td>\n",
       "    </tr>\n",
       "    <tr>\n",
       "      <th>2022-12-27</th>\n",
       "      <td>88.800003</td>\n",
       "      <td>88.940002</td>\n",
       "      <td>87.010002</td>\n",
       "      <td>87.389999</td>\n",
       "      <td>20097300</td>\n",
       "    </tr>\n",
       "    <tr>\n",
       "      <th>2022-12-28</th>\n",
       "      <td>86.980003</td>\n",
       "      <td>88.040001</td>\n",
       "      <td>85.940002</td>\n",
       "      <td>86.019997</td>\n",
       "      <td>19523200</td>\n",
       "    </tr>\n",
       "    <tr>\n",
       "      <th>2022-12-29</th>\n",
       "      <td>86.620003</td>\n",
       "      <td>88.849998</td>\n",
       "      <td>86.610001</td>\n",
       "      <td>88.449997</td>\n",
       "      <td>23333500</td>\n",
       "    </tr>\n",
       "    <tr>\n",
       "      <th>2022-12-30</th>\n",
       "      <td>86.980003</td>\n",
       "      <td>88.300003</td>\n",
       "      <td>86.570000</td>\n",
       "      <td>88.230003</td>\n",
       "      <td>23986300</td>\n",
       "    </tr>\n",
       "  </tbody>\n",
       "</table>\n",
       "<p>2014 rows × 5 columns</p>\n",
       "</div>"
      ],
      "text/plain": [
       "                 Open       High        Low      Close    Volume\n",
       "Date                                                            \n",
       "2015-01-02  26.629999  26.790001  26.393999  26.477501  26480000\n",
       "2015-01-05  26.357500  26.399500  25.887501  25.973000  41182000\n",
       "2015-01-06  26.025000  26.060499  25.277500  25.332001  54456000\n",
       "2015-01-07  25.547501  25.574499  25.182501  25.257500  46918000\n",
       "2015-01-08  25.075500  25.375000  24.750999  25.345501  73054000\n",
       "...               ...        ...        ...        ...       ...\n",
       "2022-12-23  87.110001  89.550003  87.070000  89.230003  23003000\n",
       "2022-12-27  88.800003  88.940002  87.010002  87.389999  20097300\n",
       "2022-12-28  86.980003  88.040001  85.940002  86.019997  19523200\n",
       "2022-12-29  86.620003  88.849998  86.610001  88.449997  23333500\n",
       "2022-12-30  86.980003  88.300003  86.570000  88.230003  23986300\n",
       "\n",
       "[2014 rows x 5 columns]"
      ]
     },
     "execution_count": 5,
     "metadata": {},
     "output_type": "execute_result"
    }
   ],
   "source": [
    "# Step 1: Load the Google Stock Dataset\n",
    "data = yf.download('GOOGL', start=\"2015-01-01\", end=\"2023-01-01\")\n",
    "data = data[['Open', 'High', 'Low', 'Close', 'Volume']]  # Use 5 key features\n",
    "data"
   ]
  },
  {
   "cell_type": "code",
   "execution_count": 6,
   "id": "ff20adb1-abf1-4122-a711-5214360d770e",
   "metadata": {
    "tags": []
   },
   "outputs": [
    {
     "data": {
      "text/plain": [
       "array([[0.0132079 , 0.01403593, 0.01486488, 0.01299751, 0.0692677 ],\n",
       "       [0.01105014, 0.01094976, 0.01079182, 0.00896103, 0.12858584],\n",
       "       [0.00841727, 0.0082706 , 0.00588645, 0.00383245, 0.18214242],\n",
       "       ...,\n",
       "       [0.4910839 , 0.49810131, 0.49370948, 0.48939274, 0.04119911],\n",
       "       [0.48823327, 0.50450281, 0.49909733, 0.50883499, 0.05657252],\n",
       "       [0.4910839 , 0.50015614, 0.49877566, 0.50707484, 0.05920637]])"
      ]
     },
     "execution_count": 6,
     "metadata": {},
     "output_type": "execute_result"
    }
   ],
   "source": [
    "# Step 2: Data Preprocessing\n",
    "scaler = MinMaxScaler(feature_range=(0, 1))  # Scale the data between 0 and 1\n",
    "scaled_data = scaler.fit_transform(data)\n",
    "scaled_data"
   ]
  },
  {
   "cell_type": "code",
   "execution_count": 89,
   "id": "8c806656-b4f5-4202-858d-150069ed5e95",
   "metadata": {
    "tags": []
   },
   "outputs": [],
   "source": [
    "# Create sequences of stock data for LSTM\n",
    "def create_sequences(data, seq_length):\n",
    "    X, y = [], []\n",
    "    for i in range(seq_length, len(data)):\n",
    "        X.append(data[i-seq_length:i])\n",
    "        y.append(data[i, 3])  # Predict 'Close' price (3rd column)\n",
    "    return np.array(X), np.array(y)"
   ]
  },
  {
   "cell_type": "code",
   "execution_count": 80,
   "id": "ff972476-fd8c-47fc-8884-89141c3a853e",
   "metadata": {
    "tags": []
   },
   "outputs": [],
   "source": [
    "SEQ_LENGTH = 50000  # Use 12000 days of data to predict \n",
    "X, y = create_sequences(scaled_data, SEQ_LENGTH)"
   ]
  },
  {
   "cell_type": "code",
   "execution_count": 9,
   "id": "82ca1a8f-4594-4602-86c2-d7e7a0e8a092",
   "metadata": {
    "tags": []
   },
   "outputs": [],
   "source": [
    "# Split into training and testing datasets\n",
    "split_idx = int(0.8 * len(X))  # 80% training, 20% testing\n",
    "X_train, X_test = X[:split_idx], X[split_idx:]\n",
    "y_train, y_test = y[:split_idx], y[split_idx:]"
   ]
  },
  {
   "cell_type": "code",
   "execution_count": 10,
   "id": "5953a4b9-605a-4870-a7d6-11ea7d6fcb37",
   "metadata": {
    "tags": []
   },
   "outputs": [],
   "source": [
    "# Convert to PyTorch tensors\n",
    "X_train = torch.tensor(X_train, dtype=torch.float32).to(device)\n",
    "X_test = torch.tensor(X_test, dtype=torch.float32).to(device)\n",
    "y_train = torch.tensor(y_train, dtype=torch.float32).to(device)\n",
    "y_test = torch.tensor(y_test, dtype=torch.float32).to(device)"
   ]
  },
  {
   "cell_type": "code",
   "execution_count": 90,
   "id": "4ae0598b-68c8-474b-b66d-7b8692379d6d",
   "metadata": {
    "tags": []
   },
   "outputs": [],
   "source": [
    "# Step 3: Build the LSTM Model with PyTorch\n",
    "class StockPriceLSTM(nn.Module):\n",
    "    def __init__(self, input_size, hidden_size, num_layers, output_size):\n",
    "        super(StockPriceLSTM, self).__init__()\n",
    "        self.hidden_size = hidden_size\n",
    "        self.num_layers = num_layers\n",
    "        \n",
    "        # LSTM layers\n",
    "        self.lstm = nn.LSTM(input_size, hidden_size, num_layers, batch_first=True, dropout=0.2)\n",
    "        \n",
    "        # Fully connected layers\n",
    "        self.fc1 = nn.Linear(hidden_size, 50)  # First dense layer\n",
    "        self.relu = nn.ReLU()  \n",
    "        self.fc2 = nn.Linear(50, output_size)  # Output layer\n",
    "    \n",
    "    def forward(self, x):\n",
    "        # Initialize hidden and cell states\n",
    "        h0 = torch.zeros(self.num_layers, x.size(0), self.hidden_size).to(device)\n",
    "        c0 = torch.zeros(self.num_layers, x.size(0), self.hidden_size).to(device)\n",
    "        \n",
    "        # Forward propagate LSTM\n",
    "        out, _ = self.lstm(x, (h0, c0))\n",
    "        \n",
    "        # Fully connected layers\n",
    "        out = self.fc1(out[:, -1, :])  # Get the last time step output\n",
    "        out = self.relu(out)\n",
    "        out = self.fc2(out)\n",
    "        return out"
   ]
  },
  {
   "cell_type": "code",
   "execution_count": 75,
   "id": "9d1d22fd-29ef-41fc-8a2d-c731ff936130",
   "metadata": {
    "tags": []
   },
   "outputs": [],
   "source": [
    "# Model parameters\n",
    "input_size = X_train.shape[2]  # Number of features (Open, High, Low, Close, Volume)\n",
    "hidden_size = 128*5  # Number of hidden units in LSTM\n",
    "num_layers = 5  # Number of LSTM layers\n",
    "output_size = 1  # We are predicting the 'Close' price"
   ]
  },
  {
   "cell_type": "code",
   "execution_count": 22,
   "id": "88365eba-cd9e-40aa-8ef3-4430bb0e6830",
   "metadata": {
    "tags": []
   },
   "outputs": [],
   "source": [
    "# Initialize the model, loss function, and optimizer\n",
    "model = StockPriceLSTM(input_size, hidden_size, num_layers, output_size).to(device)\n",
    "criterion = nn.MSELoss()  # Mean Squared Error Loss\n",
    "optimizer = torch.optim.RMSprop(model.parameters(), lr=0.001)"
   ]
  },
  {
   "cell_type": "code",
   "execution_count": 81,
   "id": "b4f0ba51-65a3-49d4-9dc0-8cfea339a5c4",
   "metadata": {
    "tags": []
   },
   "outputs": [],
   "source": [
    "# Step 4: Train the Model\n",
    "num_epochs = 20\n",
    "batch_size = 64"
   ]
  },
  {
   "cell_type": "code",
   "execution_count": 15,
   "id": "3adb6d20-d359-4918-b393-0910e222344b",
   "metadata": {
    "tags": []
   },
   "outputs": [],
   "source": [
    "# DataLoader to load data in batches\n",
    "train_dataset = TensorDataset(X_train, y_train)\n",
    "train_loader = DataLoader(train_dataset, batch_size=batch_size, shuffle=True)"
   ]
  },
  {
   "cell_type": "code",
   "execution_count": 82,
   "id": "3ba596c0-b54e-4381-8c77-370eda15d8c4",
   "metadata": {
    "tags": []
   },
   "outputs": [
    {
     "name": "stdout",
     "output_type": "stream",
     "text": [
      "Epoch [1/20], Loss: 0.0003\n",
      "Epoch [2/20], Loss: 0.0008\n",
      "Epoch [3/20], Loss: 0.0002\n",
      "Epoch [4/20], Loss: 0.0004\n",
      "Epoch [5/20], Loss: 0.0002\n",
      "Epoch [6/20], Loss: 0.0004\n",
      "Epoch [7/20], Loss: 0.0005\n",
      "Epoch [8/20], Loss: 0.0002\n",
      "Epoch [9/20], Loss: 0.0004\n",
      "Epoch [10/20], Loss: 0.0004\n",
      "Epoch [11/20], Loss: 0.0003\n",
      "Epoch [12/20], Loss: 0.0002\n",
      "Epoch [13/20], Loss: 0.0007\n",
      "Epoch [14/20], Loss: 0.0002\n",
      "Epoch [15/20], Loss: 0.0003\n",
      "Epoch [16/20], Loss: 0.0002\n",
      "Epoch [17/20], Loss: 0.0005\n",
      "Epoch [18/20], Loss: 0.0003\n",
      "Epoch [19/20], Loss: 0.0002\n",
      "Epoch [20/20], Loss: 0.0002\n"
     ]
    }
   ],
   "source": [
    "# Training loop\n",
    "for epoch in range(num_epochs):\n",
    "    model.train()  # Set model to training mode\n",
    "    running_loss = 0.0\n",
    "    \n",
    "    for inputs, targets in train_loader:\n",
    "        # Forward pass\n",
    "        outputs = model(inputs)\n",
    "        loss = criterion(outputs.squeeze(), targets)\n",
    "        \n",
    "        # Backward pass and optimization\n",
    "        optimizer.zero_grad()\n",
    "        loss.backward()\n",
    "        optimizer.step()\n",
    "        \n",
    "        running_loss += loss.item()\n",
    "        \n",
    "    \n",
    "    print(f'Epoch [{epoch+1}/{num_epochs}], Loss: {running_loss/len(train_loader):.4f}')"
   ]
  },
  {
   "cell_type": "code",
   "execution_count": 86,
   "id": "be385aa3-e720-4c85-b882-c5b22a8273e4",
   "metadata": {
    "tags": []
   },
   "outputs": [],
   "source": [
    "# Saving the model's state dict \n",
    "pathdir = os.path.expanduser('~/LSTM/model')\n",
    "os.makedirs(pathdir, exist_ok=True)\n",
    "\n",
    "# Save the model's state dict\n",
    "torch.save(model.state_dict(), f'{pathdir}/stock_lstm_model.pth')"
   ]
  },
  {
   "cell_type": "code",
   "execution_count": 83,
   "id": "5e59db18-d16a-42d5-a3ef-ab44309fe07a",
   "metadata": {},
   "outputs": [],
   "source": [
    "# Step 5: Evaluate the Model\n",
    "model.eval()  \n",
    "with torch.no_grad():\n",
    "    predictions = model(X_test).cpu().numpy()  # Predict stock prices\n",
    "    true_values = y_test.cpu().numpy()"
   ]
  },
  {
   "cell_type": "code",
   "execution_count": 84,
   "id": "48b0c48c-9af3-49f5-a813-e61d2d961910",
   "metadata": {},
   "outputs": [],
   "source": [
    "# Inverse scaling to get actual prices\n",
    "predictions_reshaped = predictions.reshape(-1, 1)\n",
    "true_values_reshaped = true_values.reshape(-1, 1)\n",
    "\n",
    "y_pred_inverse = scaler.inverse_transform(np.concatenate([np.zeros((predictions_reshaped.shape[0], 3)), predictions_reshaped, np.zeros((predictions_reshaped.shape[0], 1))], axis=1))[:, 3]\n",
    "y_test_inverse = scaler.inverse_transform(np.concatenate([np.zeros((true_values_reshaped.shape[0], 3)), true_values_reshaped, np.zeros((true_values_reshaped.shape[0], 1))], axis=1))[:, 3]\n"
   ]
  },
  {
   "cell_type": "code",
   "execution_count": 85,
   "id": "bfa9e973-4b0e-4a06-b837-09a28dd8c49f",
   "metadata": {
    "tags": []
   },
   "outputs": [
    {
     "data": {
      "image/png": "[encoded data removed]",
      "text/plain": [
       "<Figure size 1000x600 with 1 Axes>"
      ]
     },
     "metadata": {},
     "output_type": "display_data"
    }
   ],
   "source": [
    "# Step 6: Plot the Predictions vs Actual\n",
    "plt.figure(figsize=(10, 6))\n",
    "plt.plot(y_test_inverse, label='Actual Prices')\n",
    "plt.plot(y_pred_inverse, label='Predicted Prices')\n",
    "plt.title('Google Stock Price Prediction using LSTM')\n",
    "plt.xlabel('Time')\n",
    "plt.ylabel('Stock Price')\n",
    "plt.legend()\n",
    "plt.show()\n",
    "# 50000, 128*5  , 5, 20 epochs"
   ]
  },
  {
   "cell_type": "code",
   "execution_count": 91,
   "id": "bbe2b72f-1694-4f81-83f0-0d8641a967ec",
   "metadata": {},
   "outputs": [
    {
     "name": "stdout",
     "output_type": "stream",
     "text": [
      "Root Mean Squared Error: 16.3401\n"
     ]
    }
   ],
   "source": [
    "# Step 7: Calculate RMSE\n",
    "rmse = np.sqrt(mean_squared_error(y_test_inverse, y_pred_inverse))\n",
    "print(f'Root Mean Squared Error: {rmse:.4f}')"
   ]
  },
  {
   "cell_type": "code",
   "execution_count": null,
   "id": "24d17e98-e9ec-4bf0-8e54-9476d0522b47",
   "metadata": {},
   "outputs": [],
   "source": []
  }
 ],
 "metadata": {
  "kernelspec": {
   "display_name": "sagemaker-distribution:Python",
   "language": "python",
   "name": "conda-env-sagemaker-distribution-py"
  },
  "language_info": {
   "codemirror_mode": {
    "name": "ipython",
    "version": 3
   },
   "file_extension": ".py",
   "mimetype": "text/x-python",
   "name": "python",
   "nbconvert_exporter": "python",
   "pygments_lexer": "ipython3",
   "version": "3.10.14"
  }
 },
 "nbformat": 4,
 "nbformat_minor": 5
}
